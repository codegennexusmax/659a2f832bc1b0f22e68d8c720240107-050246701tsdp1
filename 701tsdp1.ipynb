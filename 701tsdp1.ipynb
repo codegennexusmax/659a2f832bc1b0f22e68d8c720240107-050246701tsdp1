{
 "cells": [
  {
   "cell_type": "markdown",
   "id": "39ec8df8",
   "metadata": {},
   "source": [
    "***GENERATED CODE FOR 701tsdp1 PIPELINE.***"
   ]
  },
  {
   "cell_type": "markdown",
   "id": "2a0aa9b9",
   "metadata": {},
   "source": [
    "***DON'T EDIT THIS CODE.***"
   ]
  },
  {
   "cell_type": "markdown",
   "id": "1a662135",
   "metadata": {},
   "source": [
    "***CONNECTOR FUNCTIONS TO READ DATA.***"
   ]
  },
  {
   "cell_type": "code",
   "execution_count": null,
   "id": "cb3bd552",
   "metadata": {},
   "outputs": [],
   "source": [
    "import os\n",
    "import datetime\n",
    "import logging\n",
    "import warnings\n",
    "warnings.filterwarnings('ignore')\n",
    "logging.basicConfig(format='%(levelname)s:%(message)s', level=logging.INFO)\n",
    "\n",
    "\n",
    "class HDFSConnector:\n",
    "\n",
    "    def fetch(spark, config):\n",
    "        ################### INPUT HADOOP HOST PORT TO CONNECT WITH ###############################\n",
    "        hdfs_server = str(os.environ['HDFS_SERVER'])\n",
    "        hdfs_port = int(os.environ['HDFS_PORT'])\n",
    "        df = spark.read.options(header='true', inferschema='true').csv(\n",
    "            f\"hdfs://{hdfs_server}:{hdfs_port}{eval(config)['url']}\", header='true')\n",
    "        display(df.limit(2).toPandas())\n",
    "        return df\n",
    "\n",
    "    def put(df, spark, config):\n",
    "        return df.write.format('csv').options(header='true' if eval(config)[\"is_header\"] == \"Use Header Line\" else 'false',\n",
    "                                              delimiter=eval(config)[\"delimiter\"]).save((\"%s %s\") % (datetime.datetime.now().strftime(\"%Y-%m-%d %H.%M.%S\")+\"_\", eval(config)['url']))\n"
   ]
  },
  {
   "cell_type": "markdown",
   "id": "dd8f90ab",
   "metadata": {},
   "source": [
    "***OPERATION FUNCTIONS***"
   ]
  },
  {
   "cell_type": "code",
   "execution_count": null,
   "id": "77345045",
   "metadata": {},
   "outputs": [],
   "source": [
    "import pyspark\n",
    "from dask.dataframe import from_pandas\n",
    "import json\n",
    "\n",
    "\n",
    "def SortData(df, functionsData, applyOn=[]):\n",
    "    for functiondata in functionsData:\n",
    "        coldetail = functiondata['column']\n",
    "        sortdetails = functiondata['order']\n",
    "        for col in coldetail:\n",
    "            colname = col['columnName']\n",
    "    if sortdetails == \"asc\":\n",
    "        SortReq = True\n",
    "    else:\n",
    "        SortReq = False\n",
    "\n",
    "    df = df.set_index(colname)\n",
    "    #df = df.sort_values(by = colname, ascending=SortReq)\n",
    "\n",
    "    df = df.map_partitions(lambda df: df.sort_values(\n",
    "        [colname], ascending=SortReq)).reset_index()\n",
    "\n",
    "    return df\n",
    "\n",
    "\n",
    "def runDataCleansing(sparkDf, spark, config):\n",
    "    configObj = json.loads(config)\n",
    "    sparkDf.persist(pyspark.StorageLevel.MEMORY_AND_DISK)\n",
    "    df = from_pandas((sparkDf.toPandas()), npartitions=5)\n",
    "    functionList = configObj['functionsApplied']\n",
    "    Data_Cleansing_Methods = {\"replaceBy\": replaceValues,\n",
    "                              \"formula\": calculateFormula,\n",
    "                              \"aggregate\": aggregation,\n",
    "                              \"converttostringtype\": changeToString,\n",
    "                              \"editname\": renameColumns}\n",
    "    for function in functionList:\n",
    "        function['functionName']\n",
    "        df = Data_Cleansing_Methods[function['functionName']](df, function['functionsData'],\n",
    "                                                              function['applyOn'])\n",
    "    sparkDf = spark.createDataFrame(df.compute())\n",
    "\n",
    "    display(sparkDf.limit(2).toPandas())\n",
    "    return sparkDf\n"
   ]
  },
  {
   "cell_type": "markdown",
   "id": "592c8401",
   "metadata": {},
   "source": [
    "***CONNECTOR FUNCTIONS TO WRITE DATA.***"
   ]
  },
  {
   "cell_type": "code",
   "execution_count": null,
   "id": "602fbecf",
   "metadata": {},
   "outputs": [],
   "source": [
    "import datetime\n",
    "import requests\n",
    "import datetime\n",
    "import logging\n",
    "import warnings\n",
    "warnings.filterwarnings('ignore')\n",
    "logging.basicConfig(format='%(levelname)s:%(message)s', level=logging.INFO)\n",
    "\n",
    "\n",
    "class NumtraConnector:\n",
    "\n",
    "    def put(inStages, inStagesData, stageId, spark, config):\n",
    "        path = eval(config)['server_url']\n",
    "        baseType = eval(config)['baseType']\n",
    "        results_url = eval(config)['results_url']\n",
    "        server = eval(config)['server']\n",
    "        originalfile = eval(config)['orignalKey']\n",
    "        eval(config)['pathOnly']\n",
    "        filename = eval(config)['filename']\n",
    "        eval(config)['ser']\n",
    "        eval(config)['user']\n",
    "        eval(config)['password']\n",
    "        eval(config)['authSource']\n",
    "        eval(config)['user_id']\n",
    "        eval(config)['parent_id']\n",
    "        eval(config)['project_id']\n",
    "        time = str(int(datetime.datetime.now().timestamp()))\n",
    "\n",
    "        inStagesData[inStages[0]]\n",
    "\n",
    "        print(path)\n",
    "        print(baseType)\n",
    "        print(results_url)\n",
    "        print(server)\n",
    "        print(originalfile)\n",
    "        print(filename)\n",
    "\n",
    "        args = {\n",
    "            'url': path,\n",
    "            'baseType': baseType,\n",
    "            'originalfile': originalfile,\n",
    "            'filename': time + filename\n",
    "        }\n",
    "\n",
    "        response = requests.post(results_url, args)\n",
    "        return response\n"
   ]
  },
  {
   "cell_type": "markdown",
   "id": "db4e86a5",
   "metadata": {},
   "source": [
    "***READING DATAFRAME***"
   ]
  },
  {
   "cell_type": "code",
   "execution_count": null,
   "id": "6017dbb7",
   "metadata": {},
   "outputs": [],
   "source": [
    "############## CREATE SPARK SESSION ############################ ENTER YOUR SPARK MASTER IP AND PORT TO CONNECT TO SERVER ################\n",
    "from pyspark.sql import SparkSession\n",
    "spark = SparkSession.builder.master('local[1]').getOrCreate()\n",
    "#%run 701tsdp1Hooks.ipynb\n",
    "try:\n",
    "\t#sourcePreExecutionHook()\n",
    "\n",
    "\tofficesalemax = HDFSConnector.fetch(spark, \"{'url': '/FileStore/platform/uploadedSourceFiles/part-00000-582ae327-cdbb-488e-b139-940dab39d490-c000.csv', 'filename': '1704603312OfficeSalesMax701.csv', 'delimiter': ',', 'file_type': 'Delimeted', 'dbfs_token': '', 'dbfs_domain': '', 'FilePath': '/DataPipelines/OfficeSalesMax701.csv', 'viewFileName': 'OfficeSalesMax701.csv', 'is_header': 'Use Header Line', 'baseType': 'hdfs', 'server_url': '/numtraPlatform/NumtraPlatformV3/uploads/platform/', 'results_url': 'http://ml.numtra.com:44040/api/read/hdfs'}\")\n",
    "\n",
    "except Exception as ex: \n",
    "\tlogging.error(ex)\n",
    "#spark.stop()\n"
   ]
  },
  {
   "cell_type": "markdown",
   "id": "6f4937f5",
   "metadata": {},
   "source": [
    "***PERFORMING OPERATIONS***"
   ]
  },
  {
   "cell_type": "code",
   "execution_count": null,
   "id": "2b548f1f",
   "metadata": {},
   "outputs": [],
   "source": [
    "#%run 701tsdp1Hooks.ipynb\n",
    "try:\n",
    "\t#operationPreExecutionHook()\n",
    "\n",
    "datapreparation = runDataCleansing(officesalemax,spark,json.dumps( {\"url\": \"/FileStore/platform/uploadedSourceFiles/part-00000-582ae327-cdbb-488e-b139-940dab39d490-c000.csv\", \"source_attributes\": {}, \"DataPrepFile\": \"/FileStore/platform/uploadedSourceFiles/part-00000-582ae327-cdbb-488e-b139-940dab39d490-c000.csv\", \"data_source\": \"platfiles\", \"startListenerOnly\": 1, \"dateColumnNames\": [\"OrderDateNew701\"], \"FilePath\": \"/FileStore/platform/extra/659a2f9f2bc1b0f22e68d8dd1704603667/0part.csv\", \"requestRatio\": 0.0, \"totalRows\": 50, \"BasicStats\": {\"missingValues\": 0.0, \"numberOfColumns\": 13, \"numberOfRows\": 50, \"duplicateRowCount\": 0, \"stats\": [{\"column\": \"Order Date\", \"alias\": \"Order Date\", \"generated\": 0, \"type\": \"String\", \"max\": \"9/1/2015\", \"min\": \"10/1/2015\", \"mean\": \"\", \"missing\": 0.0, \"stddev\": \"\", \"outliers\": [], \"validation\": []}, {\"column\": \"Order DateNew\", \"alias\": \"Order DateNew\", \"generated\": 0, \"type\": \"String\", \"max\": \"2015-01-20T00:00:00.000Z\", \"min\": \"2015-01-03T00:00:00.000Z\", \"mean\": \"\", \"missing\": 0.0, \"stddev\": \"\", \"outliers\": [], \"validation\": []}, {\"column\": \"State\", \"alias\": \"State\", \"generated\": 0, \"type\": \"String\", \"max\": \"Virginia\", \"min\": \"Arizona\", \"mean\": \"\", \"missing\": 0.0, \"stddev\": \"\", \"outliers\": [], \"validation\": []}, {\"column\": \"Postal Code\", \"alias\": \"Postal Code\", \"generated\": 0, \"type\": \"real\", \"max\": 97477.0, \"min\": 19134.0, \"mean\": 58251.54, \"missing\": 0.0, \"stddev\": 25597.19, \"outliers\": [], \"validation\": []}, {\"column\": \"Region\", \"alias\": \"Region\", \"generated\": 0, \"type\": \"String\", \"max\": \"West\", \"min\": \"Central\", \"mean\": \"\", \"missing\": 0.0, \"stddev\": \"\", \"outliers\": [], \"validation\": []}, {\"column\": \"Category\", \"alias\": \"Category\", \"generated\": 0, \"type\": \"String\", \"max\": \"Technology\", \"min\": \"Furniture\", \"mean\": \"\", \"missing\": 0.0, \"stddev\": \"\", \"outliers\": [], \"validation\": []}, {\"column\": \"Sub-Category\", \"alias\": \"Sub-Category\", \"generated\": 0, \"type\": \"String\", \"max\": \"Storage\", \"min\": \"Accessories\", \"mean\": \"\", \"missing\": 0.0, \"stddev\": \"\", \"outliers\": [], \"validation\": []}, {\"column\": \"Cost\", \"alias\": \"Cost\", \"generated\": 0, \"type\": \"real\", \"max\": 999.32, \"min\": 10.5, \"mean\": 480.79119999999995, \"missing\": 0.0, \"stddev\": 319.28, \"outliers\": [], \"validation\": []}, {\"column\": \"Price\", \"alias\": \"Price\", \"generated\": 0, \"type\": \"real\", \"max\": 995.15, \"min\": 8.61, \"mean\": 554.8758, \"missing\": 0.0, \"stddev\": 287.46, \"outliers\": [], \"validation\": []}, {\"column\": \"Profit\", \"alias\": \"Profit\", \"generated\": 0, \"type\": \"real\", \"max\": 885.59, \"min\": -640.67, \"mean\": 74.0836, \"missing\": 0.0, \"stddev\": 431.35, \"outliers\": [], \"validation\": []}, {\"column\": \"Quantity\", \"alias\": \"Quantity\", \"generated\": 0, \"type\": \"real\", \"max\": 25.0, \"min\": 1.0, \"mean\": 10.28, \"missing\": 0.0, \"stddev\": 7.26, \"outliers\": [], \"validation\": []}, {\"column\": \"Sales\", \"alias\": \"Sales\", \"generated\": 0, \"type\": \"real\", \"max\": 19903.0828, \"min\": 34.44196991, \"mean\": 5812.625665242201, \"missing\": 0.0, \"stddev\": 5452.14, \"outliers\": [17842.65437, 15167.56074, 15868.14129, 18665.82118, 19903.0828, 15233.52444], \"validation\": []}, {\"column\": \"OrderDateNew701\", \"alias\": \"OrderDateNew701\", \"generated\": 0, \"type\": \"date\", \"max\": \"2015120\", \"min\": \"201513\", \"mean\": \"\", \"missing\": 0.0, \"stddev\": \"\", \"outliers\": [], \"validation\": []}]}, \"predictionPowerScore\": [{\"Category\": 1.0, \"Cost\": 0.0, \"Order Date\": 0.0, \"Order DateNew\": 0.0, \"OrderDateNew701\": 0.0, \"Postal Code\": 0.0, \"Price\": 0.1840988095, \"Profit\": 0.0, \"Quantity\": 0.0, \"Region\": 0.0, \"Sales\": 0.0, \"State\": 0.0, \"Sub-Category\": 1.0}, {\"Category\": 0.0, \"Cost\": 1.0, \"Order Date\": 0.0, \"Order DateNew\": 0.0, \"OrderDateNew701\": 0.0, \"Postal Code\": 0.0, \"Price\": 0.0024425276, \"Profit\": 0.0765021872, \"Quantity\": 0.0, \"Region\": 0.0, \"Sales\": 0.0, \"State\": 0.0, \"Sub-Category\": 0.0}, {\"Category\": 0.0, \"Cost\": 0.0, \"Order Date\": 1.0, \"Order DateNew\": 0.8235271673, \"OrderDateNew701\": 0.8224824118, \"Postal Code\": 0.7562903366, \"Price\": 0.0, \"Profit\": 0.0, \"Quantity\": 0.0525248561, \"Region\": 0.0670432412, \"Sales\": 0.0, \"State\": 0.6686035525, \"Sub-Category\": 0.0}, {\"Category\": 0.0, \"Cost\": 0.0, \"Order Date\": 0.8359279609, \"Order DateNew\": 1.0, \"OrderDateNew701\": 0.8224824118, \"Postal Code\": 0.7562903366, \"Price\": 0.0, \"Profit\": 0.0, \"Quantity\": 0.0141959562, \"Region\": 0.0670432412, \"Sales\": 0.0, \"State\": 0.6293025757, \"Sub-Category\": 0.0}, {\"Category\": 0.0, \"Cost\": 0.0, \"Order Date\": 0.0, \"Order DateNew\": 0.0, \"OrderDateNew701\": 1.0, \"Postal Code\": 0.0, \"Price\": 0.0, \"Profit\": 0.0, \"Quantity\": 0.0, \"Region\": 0.0, \"Sales\": 0.0, \"State\": 0.0, \"Sub-Category\": 0.0}, {\"Category\": 0.0, \"Cost\": 0.0, \"Order Date\": 0.413542133, \"Order DateNew\": 0.4135625525, \"OrderDateNew701\": 0.5685704744, \"Postal Code\": 1.0, \"Price\": 0.0, \"Profit\": 0.0, \"Quantity\": 0.0, \"Region\": 0.4440810897, \"Sales\": 0.0, \"State\": 0.8791280719, \"Sub-Category\": 0.0}, {\"Category\": 0.0553698548, \"Cost\": 0.0, \"Order Date\": 0.0, \"Order DateNew\": 0.0, \"OrderDateNew701\": 0.0, \"Postal Code\": 0.0, \"Price\": 1.0, \"Profit\": 0.0, \"Quantity\": 0.0, \"Region\": 0.0, \"Sales\": 0.0, \"State\": 0.0, \"Sub-Category\": 0.0356432218}, {\"Category\": 0.0, \"Cost\": 0.2130585695, \"Order Date\": 0.0, \"Order DateNew\": 0.0, \"OrderDateNew701\": 0.0, \"Postal Code\": 0.0, \"Price\": 0.2124647718, \"Profit\": 1.0, \"Quantity\": 0.0, \"Region\": 0.0, \"Sales\": 0.0359472075, \"State\": 0.0, \"Sub-Category\": 0.0}, {\"Category\": 0.0, \"Cost\": 0.0, \"Order Date\": 0.0, \"Order DateNew\": 0.0, \"OrderDateNew701\": 0.0, \"Postal Code\": 0.0, \"Price\": 0.0, \"Profit\": 0.0, \"Quantity\": 1.0, \"Region\": 0.0, \"Sales\": 0.1169871795, \"State\": 0.0, \"Sub-Category\": 0.0}, {\"Category\": 0.0, \"Cost\": 0.0, \"Order Date\": 0.6164367103, \"Order DateNew\": 0.6164367103, \"OrderDateNew701\": 0.6455481033, \"Postal Code\": 1.0, \"Price\": 0.0, \"Profit\": 0.0, \"Quantity\": 0.0092461319, \"Region\": 1.0, \"Sales\": 0.0, \"State\": 0.9385105265, \"Sub-Category\": 0.0}, {\"Category\": 0.0, \"Cost\": 0.0, \"Order Date\": 0.0, \"Order DateNew\": 0.0, \"OrderDateNew701\": 0.0, \"Postal Code\": 0.0, \"Price\": 0.0, \"Profit\": 0.0, \"Quantity\": 0.009891694, \"Region\": 0.0, \"Sales\": 1.0, \"State\": 0.0, \"Sub-Category\": 0.0}, {\"Category\": 0.0, \"Cost\": 0.0, \"Order Date\": 0.6148039762, \"Order DateNew\": 0.6148039762, \"OrderDateNew701\": 0.6017230053, \"Postal Code\": 0.9233556299, \"Price\": 0.0, \"Profit\": 0.1051189149, \"Quantity\": 0.039506689, \"Region\": 0.2140634124, \"Sales\": 0.0, \"State\": 1.0, \"Sub-Category\": 0.0}, {\"Category\": 0.0781352858, \"Cost\": 0.0067441239, \"Order Date\": 0.0024038462, \"Order DateNew\": 0.0, \"OrderDateNew701\": 0.0331196581, \"Postal Code\": 0.0391769689, \"Price\": 0.0568242521, \"Profit\": 0.0067441239, \"Quantity\": 0.0, \"Region\": 0.0140260974, \"Sales\": 0.0426905271, \"State\": 0.0, \"Sub-Category\": 1.0}], \"HasBasicStats\": 1, \"functionsApplied\": [{\"functionName\": \"sortData\", \"applyOn\": [{\"columnName\": \"OrderDateNew701\", \"type\": \"date\", \"min\": \"201513\", \"max\": \"2015120\", \"mean\": \"-\"}], \"functionsData\": [{\"column\": [{\"columnName\": \"OrderDateNew701\", \"type\": \"date\", \"min\": \"201513\", \"max\": \"2015120\", \"mean\": \"-\"}], \"order\": \"asc\"}]}], \"functionChanges\": [{\"columnName\": \"OrderDateNew701\", \"functionName\": \"sortData\", \"Type\": \"date\", \"Parameters\": [{\"column\": [{\"columnName\": \"OrderDateNew701\", \"type\": \"date\", \"min\": \"201513\", \"max\": \"2015120\", \"mean\": \"-\"}], \"order\": \"asc\"}]}], \"fileheader\": [{\"field\": \"Order Date\", \"alias\": \"Order Date\", \"generated\": 0, \"position\": 1, \"type\": \"String\"}, {\"field\": \"Order DateNew\", \"alias\": \"Order DateNew\", \"generated\": 0, \"position\": 2, \"type\": \"String\"}, {\"field\": \"State\", \"alias\": \"State\", \"generated\": 0, \"position\": 3, \"type\": \"String\"}, {\"field\": \"Postal Code\", \"alias\": \"Postal Code\", \"generated\": 0, \"position\": 4, \"type\": \"real\"}, {\"field\": \"Region\", \"alias\": \"Region\", \"generated\": 0, \"position\": 5, \"type\": \"String\"}, {\"field\": \"Category\", \"alias\": \"Category\", \"generated\": 0, \"position\": 6, \"type\": \"String\"}, {\"field\": \"Sub-Category\", \"alias\": \"Sub-Category\", \"generated\": 0, \"position\": 7, \"type\": \"String\"}, {\"field\": \"Cost\", \"alias\": \"Cost\", \"generated\": 0, \"position\": 8, \"type\": \"real\"}, {\"field\": \"Price\", \"alias\": \"Price\", \"generated\": 0, \"position\": 9, \"type\": \"real\"}, {\"field\": \"Profit\", \"alias\": \"Profit\", \"generated\": 0, \"position\": 10, \"type\": \"real\"}, {\"field\": \"Quantity\", \"alias\": \"Quantity\", \"generated\": 0, \"position\": 11, \"type\": \"real\"}, {\"field\": \"Sales\", \"alias\": \"Sales\", \"generated\": 0, \"position\": 12, \"type\": \"real\"}, {\"field\": \"OrderDateNew701\", \"alias\": \"OrderDateNew701\", \"generated\": 0, \"position\": 13, \"type\": \"date\"}]}))\n",
    "\t#operationPostExecutionHook(datapreparation)\n",
    "\n",
    "except Exception as ex: \n",
    "\tlogging.error(ex)\n"
   ]
  },
  {
   "cell_type": "markdown",
   "id": "0399fc26",
   "metadata": {},
   "source": [
    "***WRITING DATAFRAME***"
   ]
  },
  {
   "cell_type": "code",
   "execution_count": null,
   "id": "1f5d6840",
   "metadata": {},
   "outputs": [],
   "source": [
    "#%run 701tsdp1Hooks.ipynb\n",
    "try:\n",
    "\t#sinkPreExecutionHook()\n",
    "\n",
    "\tdatapipelines = NumtraConnector.fetch(spark, \"{'samplefile': '/FileStore/platform/sampleData/659a2f9c2bc1b0f22e68d8d9/part-00000-efdf54d9-796b-4b15-a749-72743d1781ee-c000.csv', 'samplecount': 50, 'originalcount': 50, 'orignalKey': '/FileStore/platform/uploadedSourceFiles/part-00000-582ae327-cdbb-488e-b139-940dab39d490-c000.csv', 'pathOnly': '/DataPipelines', 'project_id': '653649fa02108c303fddceda', 'parent_id': '653649fa02108c303fddceda', 'original_schema': [{'checked': True, 'inherited': True, 'is_categorical': False, 'bad_values': '', 'nullable': 'true', 'field': 'Order Date', 'alias': 'Order Date', 'type': 'date', 'position': '0'}, {'checked': True, 'inherited': True, 'is_categorical': False, 'bad_values': '', 'nullable': 'true', 'field': 'Order DateNew', 'alias': 'Order DateNew', 'type': 'numeric', 'position': '1'}, {'checked': True, 'inherited': True, 'is_categorical': False, 'bad_values': '', 'nullable': 'true', 'field': 'State', 'alias': 'State', 'type': 'String', 'position': '2'}, {'checked': True, 'inherited': True, 'is_categorical': False, 'bad_values': '', 'nullable': 'true', 'field': 'Postal Code', 'alias': 'Postal Code', 'type': 'real', 'position': '3'}, {'checked': True, 'inherited': True, 'is_categorical': False, 'bad_values': '', 'nullable': 'true', 'field': 'Region', 'alias': 'Region', 'type': 'String', 'position': '4'}, {'checked': True, 'inherited': True, 'is_categorical': False, 'bad_values': '', 'nullable': 'true', 'field': 'Category', 'alias': 'Category', 'type': 'String', 'position': '5'}, {'checked': True, 'inherited': True, 'is_categorical': False, 'bad_values': '', 'nullable': 'true', 'field': 'Sub-Category', 'alias': 'Sub-Category', 'type': 'String', 'position': '6'}, {'checked': True, 'inherited': True, 'is_categorical': False, 'bad_values': '', 'nullable': 'true', 'field': 'Cost', 'alias': 'Cost', 'type': 'real', 'position': '7'}, {'checked': True, 'inherited': True, 'is_categorical': False, 'bad_values': '', 'nullable': 'true', 'field': 'Price', 'alias': 'Price', 'type': 'real', 'position': '8'}, {'checked': True, 'inherited': True, 'is_categorical': False, 'bad_values': '', 'nullable': 'true', 'field': 'Profit', 'alias': 'Profit', 'type': 'real', 'position': '9'}, {'checked': True, 'inherited': True, 'is_categorical': False, 'bad_values': '', 'nullable': 'true', 'field': 'Quantity', 'alias': 'Quantity', 'type': 'real', 'position': '10'}, {'checked': True, 'inherited': True, 'is_categorical': False, 'bad_values': '', 'nullable': 'true', 'field': 'Sales', 'alias': 'Sales', 'type': 'real', 'position': '11'}, {'checked': True, 'inherited': True, 'is_categorical': False, 'bad_values': '', 'nullable': 'true', 'field': 'OrderDateNew701', 'alias': 'OrderDateNew701', 'type': 'numeric', 'position': '12'}], 'actual_schema': [{'checked': True, 'inherited': True, 'is_categorical': False, 'bad_values': '', 'nullable': 'true', 'field': 'Order Date', 'alias': 'Order Date', 'type': 'date', 'position': '0'}, {'checked': True, 'inherited': True, 'is_categorical': False, 'bad_values': '', 'nullable': 'true', 'field': 'Order DateNew', 'alias': 'Order DateNew', 'type': 'numeric', 'position': '1'}, {'checked': True, 'inherited': True, 'is_categorical': False, 'bad_values': '', 'nullable': 'true', 'field': 'State', 'alias': 'State', 'type': 'String', 'position': '2'}, {'checked': True, 'inherited': True, 'is_categorical': False, 'bad_values': '', 'nullable': 'true', 'field': 'Postal Code', 'alias': 'Postal Code', 'type': 'real', 'position': '3'}, {'checked': True, 'inherited': True, 'is_categorical': False, 'bad_values': '', 'nullable': 'true', 'field': 'Region', 'alias': 'Region', 'type': 'String', 'position': '4'}, {'checked': True, 'inherited': True, 'is_categorical': False, 'bad_values': '', 'nullable': 'true', 'field': 'Category', 'alias': 'Category', 'type': 'String', 'position': '5'}, {'checked': True, 'inherited': True, 'is_categorical': False, 'bad_values': '', 'nullable': 'true', 'field': 'Sub-Category', 'alias': 'Sub-Category', 'type': 'String', 'position': '6'}, {'checked': True, 'inherited': True, 'is_categorical': False, 'bad_values': '', 'nullable': 'true', 'field': 'Cost', 'alias': 'Cost', 'type': 'real', 'position': '7'}, {'checked': True, 'inherited': True, 'is_categorical': False, 'bad_values': '', 'nullable': 'true', 'field': 'Price', 'alias': 'Price', 'type': 'real', 'position': '8'}, {'checked': True, 'inherited': True, 'is_categorical': False, 'bad_values': '', 'nullable': 'true', 'field': 'Profit', 'alias': 'Profit', 'type': 'real', 'position': '9'}, {'checked': True, 'inherited': True, 'is_categorical': False, 'bad_values': '', 'nullable': 'true', 'field': 'Quantity', 'alias': 'Quantity', 'type': 'real', 'position': '10'}, {'checked': True, 'inherited': True, 'is_categorical': False, 'bad_values': '', 'nullable': 'true', 'field': 'Sales', 'alias': 'Sales', 'type': 'real', 'position': '11'}, {'checked': True, 'inherited': True, 'is_categorical': False, 'bad_values': '', 'nullable': 'true', 'field': 'OrderDateNew701', 'alias': 'OrderDateNew701', 'type': 'numeric', 'position': '12'}], 'server': 'https://ml.numtra.com:443', 'server_url': '/numtraPlatform/NumtraPlatformV3/uploads/platform/', 'delimiter': ',', 'file_type': 'Delimeted', 'filename': 'OfficeSalesMax701S.csv', 'token': '', 'domain': '', 'is_header': 'Use Header Line', 'url': '/FileStore/platform/uploadedSourceFiles/part-00000-edadbe28-8f08-4a07-851f-1defb2e9af95-c000.csv', 'results_url': 'http://ml.numtra.com:44040/api/read/hdfs'}\")\n",
    "\n",
    "except Exception as ex: \n",
    "\tlogging.error(ex)\n"
   ]
  }
 ],
 "metadata": {},
 "nbformat": 4,
 "nbformat_minor": 5
}
